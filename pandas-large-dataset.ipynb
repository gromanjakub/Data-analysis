{
 "cells": [
  {
   "cell_type": "code",
   "execution_count": 1,
   "id": "0e4e9085-47ef-4d62-ab0f-cb4a8e0ca7c1",
   "metadata": {},
   "outputs": [
    {
     "name": "stdout",
     "output_type": "stream",
     "text": [
      "Pocet dialogu v dialogy1.txt je 40676.\n",
      "Pocet dialogu v dialogy2.txt je 50699.\n"
     ]
    },
    {
     "name": "stderr",
     "output_type": "stream",
     "text": [
      "/tmp/ipykernel_16301/2977996038.py:30: SettingWithCopyWarning: \n",
      "A value is trying to be set on a copy of a slice from a DataFrame.\n",
      "Try using .loc[row_indexer,col_indexer] = value instead\n",
      "\n",
      "See the caveats in the documentation: https://pandas.pydata.org/pandas-docs/stable/user_guide/indexing.html#returning-a-view-versus-a-copy\n",
      "  testdf[\"ma_mod\"] = testdf.column.str.contains(mod_pat) #tohle mi dá true kde je modifikator\n"
     ]
    },
    {
     "name": "stdout",
     "output_type": "stream",
     "text": [
      "Počet dialogů v dialogy1.txt obsahujících modifikátor je 17213.\n",
      "Počet dialogů v dialogy2.txt obsahujících modifikátor je 21821.\n"
     ]
    },
    {
     "name": "stderr",
     "output_type": "stream",
     "text": [
      "/tmp/ipykernel_16301/2977996038.py:38: SettingWithCopyWarning: \n",
      "A value is trying to be set on a copy of a slice from a DataFrame.\n",
      "Try using .loc[row_indexer,col_indexer] = value instead\n",
      "\n",
      "See the caveats in the documentation: https://pandas.pydata.org/pandas-docs/stable/user_guide/indexing.html#returning-a-view-versus-a-copy\n",
      "  testdf2[\"ma_mod\"] = testdf2.column.str.contains(mod_pat) #tohle mi dá true kde je modifikator\n"
     ]
    }
   ],
   "source": [
    "import pandas\n",
    "import numpy\n",
    "\n",
    "df = pandas.read_csv(\"/home/kub/Documents/dialogy/dialogy1.txt\", delimiter = \"\\t\")\n",
    "df.columns = [\"column\"]\n",
    "dff = df[df.index.str.contains(\"dialog \") == True]\n",
    "print(\"Pocet dialogu v dialogy1.txt je \" + str(len(dff)) + \".\")\n",
    "\n",
    "df2 = pandas.read_csv(\"/home/kub/Documents/dialogy/dialogy2.txt\", delimiter = \"\\t\")\n",
    "df2.columns = [\"column\"]\n",
    "dff2 = df2[df2.index.str.contains(\"dialog \") == True]\n",
    "print(\"Pocet dialogu v dialogy2.txt je \" + str(len(dff2)) + \".\")\n",
    "\n",
    "modifikatory = pandas.read_csv(\"/home/kub/Documents/dialogy/modifikatory.txt\", delimiter = \"\\t\",  encoding ='ISO-8859-1', header = None)\n",
    "modifikatory.columns = [\"column\"]\n",
    "modifikatory[\"column\"] = modifikatory.column.str.replace(\"è\", \"č\")\n",
    "modifikatory[\"column\"] = modifikatory.column.str.replace(\"ø\", \"ř\")\n",
    "modifikatory[\"column\"] = modifikatory.column.str.replace(\"\", \"š\")\n",
    "modifikatory[\"column\"] = modifikatory.column.str.replace(\"\", \"ž\") \n",
    "modifikatory[\"column\"] = modifikatory.column.str.replace(\"ì\", \"ě\")\n",
    "\n",
    "mod_list = modifikatory[\"column\"].tolist()\n",
    "mod_pat = \"|\".join(mod_list)\n",
    "\n",
    "testdf = df\n",
    "testdf[\"Novy_sloupec\"] = numpy.select([testdf[\"column\"].isnull()], \"1\", \"0\") #1 = dialog, 0 = není dialog\n",
    "testdf2 = testdf.loc[testdf[\"Novy_sloupec\"].shift() != testdf[\"Novy_sloupec\"]] #zcheckne jestli se ten řádek rovná tomu druhému\n",
    "testdf2.columns = [\"column\", \"Je_nan\"]\n",
    "testdf = testdf2[testdf2.Je_nan == \"0\"]\n",
    "testdf[\"ma_mod\"] = testdf.column.str.contains(mod_pat) #tohle mi dá true kde je modifikator\n",
    "print(\"Počet dialogů v dialogy1.txt obsahujících modifikátor je \" + str(testdf[\"ma_mod\"].value_counts()[True]) + \".\")\n",
    "\n",
    "testdf2 = df2\n",
    "testdf2[\"Novy_sloupec\"] = numpy.select([testdf2[\"column\"].isnull()], \"1\", \"0\") #1 = dialog, 0 = není dialog\n",
    "testdf3 = testdf2.loc[testdf2[\"Novy_sloupec\"].shift() != testdf2[\"Novy_sloupec\"]] #zcheckne jestli se ten řádek rovná tomu druhému\n",
    "testdf3.columns = [\"column\", \"Je_nan\"]\n",
    "testdf2 = testdf3[testdf3.Je_nan == \"0\"]\n",
    "testdf2[\"ma_mod\"] = testdf2.column.str.contains(mod_pat) #tohle mi dá true kde je modifikator\n",
    "print(\"Počet dialogů v dialogy2.txt obsahujících modifikátor je \" + str(testdf2[\"ma_mod\"].value_counts()[True]) + \".\")\n"
   ]
  },
  {
   "cell_type": "code",
   "execution_count": 4,
   "id": "b6cbac7b-0bde-4cf4-bb54-3b5d5efec362",
   "metadata": {},
   "outputs": [
    {
     "data": {
      "text/plain": [
       "'\\ndialogy = df[df.index.str.contains(\"dialog \")]\\n#dialogy \\n\\ntestdf = df.tail(100)\\ntestdf\\n'"
      ]
     },
     "execution_count": 4,
     "metadata": {},
     "output_type": "execute_result"
    }
   ],
   "source": []
  },
  {
   "cell_type": "code",
   "execution_count": 3,
   "id": "f9480f90-416d-4091-a640-9a4c20e66c25",
   "metadata": {},
   "outputs": [
    {
     "data": {
      "text/plain": [
       "'\\nfor a,b in df.iterrows():\\n    if b.notna() == True:\\n        \\n        if any(x in modifikatory[\"column\"] for x in b):\\n            print(b)\\n        \\n        \\n        a_string = \"A string is more than its parts!\"\\n        matches = [\"more\", \"wholesome\", \"milk\"]\\n\\n        if any(x in a_string for x in matches):\\n'"
      ]
     },
     "execution_count": 3,
     "metadata": {},
     "output_type": "execute_result"
    }
   ],
   "source": []
  },
  {
   "cell_type": "code",
   "execution_count": null,
   "id": "0c26e0e3-897d-4990-8f22-47fe5ba78191",
   "metadata": {},
   "outputs": [
    {
     "data": {
      "text/plain": [
       "40676"
      ]
     },
     "execution_count": 108,
     "metadata": {},
     "output_type": "execute_result"
    }
   ],
   "source": [
    "#df = pandas.read_csv(\"/home/kub/Documents/dialogy/dialogy1.txt\", usecols = [\"mm\",\"gg\"], header = 0,delimiter = \"\\t\")\n",
    "dff = df[df.index.str.contains(\"dialog \") == True]\n",
    "len(dff)"
   ]
  },
  {
   "cell_type": "code",
   "execution_count": 128,
   "id": "59b02da7-4da1-4787-b225-405208fe994d",
   "metadata": {},
   "outputs": [
    {
     "name": "stdout",
     "output_type": "stream",
     "text": [
      "true\n"
     ]
    }
   ],
   "source": []
  },
  {
   "cell_type": "code",
   "execution_count": 5,
   "id": "f063501b-0092-4600-904d-08318d635624",
   "metadata": {},
   "outputs": [
    {
     "data": {
      "text/html": [
       "<div>\n",
       "<style scoped>\n",
       "    .dataframe tbody tr th:only-of-type {\n",
       "        vertical-align: middle;\n",
       "    }\n",
       "\n",
       "    .dataframe tbody tr th {\n",
       "        vertical-align: top;\n",
       "    }\n",
       "\n",
       "    .dataframe thead th {\n",
       "        text-align: right;\n",
       "    }\n",
       "</style>\n",
       "<table border=\"1\" class=\"dataframe\">\n",
       "  <thead>\n",
       "    <tr style=\"text-align: right;\">\n",
       "      <th></th>\n",
       "      <th>column</th>\n",
       "      <th>Novy_sloupec</th>\n",
       "    </tr>\n",
       "  </thead>\n",
       "  <tbody>\n",
       "    <tr>\n",
       "      <th>07:19</th>\n",
       "      <td>boty do vody</td>\n",
       "      <td>0</td>\n",
       "    </tr>\n",
       "    <tr>\n",
       "      <th>07:19</th>\n",
       "      <td>boty do vody k moři</td>\n",
       "      <td>0</td>\n",
       "    </tr>\n",
       "    <tr>\n",
       "      <th>07:19</th>\n",
       "      <td>boty do vody pro děti</td>\n",
       "      <td>0</td>\n",
       "    </tr>\n",
       "    <tr>\n",
       "      <th>07:20</th>\n",
       "      <td>boty na beh</td>\n",
       "      <td>0</td>\n",
       "    </tr>\n",
       "    <tr>\n",
       "      <th>07:20</th>\n",
       "      <td>boty na běh</td>\n",
       "      <td>0</td>\n",
       "    </tr>\n",
       "    <tr>\n",
       "      <th>...</th>\n",
       "      <td>...</td>\n",
       "      <td>...</td>\n",
       "    </tr>\n",
       "    <tr>\n",
       "      <th>13:28</th>\n",
       "      <td>prodej traktoru zetor havlickuv brod  inzerce ...</td>\n",
       "      <td>0</td>\n",
       "    </tr>\n",
       "    <tr>\n",
       "      <th>13:31</th>\n",
       "      <td>wwwprodej traktoru zetoru havl brod  29. 6.2016</td>\n",
       "      <td>0</td>\n",
       "    </tr>\n",
       "    <tr>\n",
       "      <th>13:31</th>\n",
       "      <td>prodej traktoru zetoru havl brod 29. 6.2016 in...</td>\n",
       "      <td>0</td>\n",
       "    </tr>\n",
       "    <tr>\n",
       "      <th>13:32</th>\n",
       "      <td>prodeje zetoru havlickuv brod  a nabidka</td>\n",
       "      <td>0</td>\n",
       "    </tr>\n",
       "    <tr>\n",
       "      <th>13:52</th>\n",
       "      <td>prodeje zetoru havlickuv brod  a nabidka</td>\n",
       "      <td>0</td>\n",
       "    </tr>\n",
       "  </tbody>\n",
       "</table>\n",
       "<p>941376 rows × 2 columns</p>\n",
       "</div>"
      ],
      "text/plain": [
       "                                                  column Novy_sloupec\n",
       "07:19                                       boty do vody            0\n",
       "07:19                                boty do vody k moři            0\n",
       "07:19                              boty do vody pro děti            0\n",
       "07:20                                        boty na beh            0\n",
       "07:20                                        boty na běh            0\n",
       "...                                                  ...          ...\n",
       "13:28  prodej traktoru zetor havlickuv brod  inzerce ...            0\n",
       "13:31    wwwprodej traktoru zetoru havl brod  29. 6.2016            0\n",
       "13:31  prodej traktoru zetoru havl brod 29. 6.2016 in...            0\n",
       "13:32           prodeje zetoru havlickuv brod  a nabidka            0\n",
       "13:52           prodeje zetoru havlickuv brod  a nabidka            0\n",
       "\n",
       "[941376 rows x 2 columns]"
      ]
     },
     "execution_count": 5,
     "metadata": {},
     "output_type": "execute_result"
    }
   ],
   "source": [
    "testdf = df\n",
    "testdf[\"Novy_sloupec\"] = numpy.select([testdf[\"column\"].isnull()], \"1\", \"0\") #1 = dialog, 0 = není dialog\n",
    "testdf"
   ]
  },
  {
   "cell_type": "code",
   "execution_count": 33,
   "id": "469e6227-8735-4d1d-bb68-abc452ccf5d5",
   "metadata": {},
   "outputs": [
    {
     "data": {
      "text/plain": [
       "40676"
      ]
     },
     "execution_count": 33,
     "metadata": {},
     "output_type": "execute_result"
    }
   ],
   "source": [
    "testdf2[\"column\"].isna().sum()"
   ]
  },
  {
   "cell_type": "code",
   "execution_count": 6,
   "id": "975a9694-9c1a-4adb-a761-2460e6ce349f",
   "metadata": {},
   "outputs": [],
   "source": [
    "testdf2 = testdf.loc[testdf[\"Novy_sloupec\"].shift() != testdf[\"Novy_sloupec\"]] #zcheckne jestli se ten řádek rovná tomu druhému\n",
    "testdf2.columns = [\"column\", \"Je_nan\"]\n",
    "\n"
   ]
  },
  {
   "cell_type": "code",
   "execution_count": 7,
   "id": "119eda0e-023d-4382-8ecf-da0269cf4af5",
   "metadata": {},
   "outputs": [
    {
     "data": {
      "text/html": [
       "<div>\n",
       "<style scoped>\n",
       "    .dataframe tbody tr th:only-of-type {\n",
       "        vertical-align: middle;\n",
       "    }\n",
       "\n",
       "    .dataframe tbody tr th {\n",
       "        vertical-align: top;\n",
       "    }\n",
       "\n",
       "    .dataframe thead th {\n",
       "        text-align: right;\n",
       "    }\n",
       "</style>\n",
       "<table border=\"1\" class=\"dataframe\">\n",
       "  <thead>\n",
       "    <tr style=\"text-align: right;\">\n",
       "      <th></th>\n",
       "      <th>column</th>\n",
       "      <th>Je_nan</th>\n",
       "    </tr>\n",
       "  </thead>\n",
       "  <tbody>\n",
       "    <tr>\n",
       "      <th>count</th>\n",
       "      <td>40677</td>\n",
       "      <td>40677</td>\n",
       "    </tr>\n",
       "    <tr>\n",
       "      <th>unique</th>\n",
       "      <td>30359</td>\n",
       "      <td>1</td>\n",
       "    </tr>\n",
       "    <tr>\n",
       "      <th>top</th>\n",
       "      <td>facebook</td>\n",
       "      <td>0</td>\n",
       "    </tr>\n",
       "    <tr>\n",
       "      <th>freq</th>\n",
       "      <td>1552</td>\n",
       "      <td>40677</td>\n",
       "    </tr>\n",
       "  </tbody>\n",
       "</table>\n",
       "</div>"
      ],
      "text/plain": [
       "          column Je_nan\n",
       "count      40677  40677\n",
       "unique     30359      1\n",
       "top     facebook      0\n",
       "freq        1552  40677"
      ]
     },
     "execution_count": 7,
     "metadata": {},
     "output_type": "execute_result"
    }
   ],
   "source": [
    "testdf = testdf2[testdf2.Je_nan == \"0\"]\n",
    "testdf.describe()"
   ]
  },
  {
   "cell_type": "code",
   "execution_count": 132,
   "id": "66da4293-838c-414c-9ba7-d05b6a32208f",
   "metadata": {
    "jupyter": {
     "source_hidden": true
    },
    "tags": []
   },
   "outputs": [
    {
     "name": "stdout",
     "output_type": "stream",
     "text": [
      "941376\n",
      "900700\n"
     ]
    },
    {
     "data": {
      "text/plain": [
       "pandas._libs.tslibs.timestamps.Timestamp"
      ]
     },
     "execution_count": 132,
     "metadata": {},
     "output_type": "execute_result"
    }
   ],
   "source": [
    "timedf = df\n",
    "timedf[\"Aktivita\"] = 1\n",
    "timedf = timedf.reset_index()\n",
    "print(len(timedf))\n",
    "timedf = timedf[timedf[\"column\"].notna()]\n",
    "print(len(timedf))\n",
    "timedf = timedf.drop(columns = [\"column\", \"Novy_sloupec\"])\n",
    "timedf['Time'] = pandas.to_datetime(timedf['Time'])\n",
    "#timedf[\"Time\"] = pandas.to_datetime(timedf, format='%Y:%H:%M') #- pandas.to_datetime(timedf, format='%H:%M').dt.normalize()\n",
    "type(timedf.iloc[0,0])\n",
    "#timedf[:,0]\n",
    "#timedf.index.name = \"Time\"\n"
   ]
  },
  {
   "cell_type": "code",
   "execution_count": 2,
   "id": "d8adf0cc-f87e-49b2-8fc8-30afa28d5189",
   "metadata": {},
   "outputs": [
    {
     "data": {
      "text/html": [
       "<div>\n",
       "<style scoped>\n",
       "    .dataframe tbody tr th:only-of-type {\n",
       "        vertical-align: middle;\n",
       "    }\n",
       "\n",
       "    .dataframe tbody tr th {\n",
       "        vertical-align: top;\n",
       "    }\n",
       "\n",
       "    .dataframe thead th {\n",
       "        text-align: right;\n",
       "    }\n",
       "</style>\n",
       "<table border=\"1\" class=\"dataframe\">\n",
       "  <thead>\n",
       "    <tr style=\"text-align: right;\">\n",
       "      <th>Time</th>\n",
       "      <th>2021-10-05 00:00:00</th>\n",
       "      <th>2021-10-05 00:01:00</th>\n",
       "      <th>2021-10-05 00:02:00</th>\n",
       "      <th>2021-10-05 00:03:00</th>\n",
       "      <th>2021-10-05 00:04:00</th>\n",
       "      <th>2021-10-05 00:05:00</th>\n",
       "      <th>2021-10-05 00:06:00</th>\n",
       "      <th>2021-10-05 00:07:00</th>\n",
       "      <th>2021-10-05 00:08:00</th>\n",
       "      <th>2021-10-05 00:09:00</th>\n",
       "      <th>...</th>\n",
       "      <th>2021-10-05 23:50:00</th>\n",
       "      <th>2021-10-05 23:51:00</th>\n",
       "      <th>2021-10-05 23:52:00</th>\n",
       "      <th>2021-10-05 23:53:00</th>\n",
       "      <th>2021-10-05 23:54:00</th>\n",
       "      <th>2021-10-05 23:55:00</th>\n",
       "      <th>2021-10-05 23:56:00</th>\n",
       "      <th>2021-10-05 23:57:00</th>\n",
       "      <th>2021-10-05 23:58:00</th>\n",
       "      <th>2021-10-05 23:59:00</th>\n",
       "    </tr>\n",
       "  </thead>\n",
       "  <tbody>\n",
       "    <tr>\n",
       "      <th>Aktivita</th>\n",
       "      <td>313</td>\n",
       "      <td>339</td>\n",
       "      <td>330</td>\n",
       "      <td>279</td>\n",
       "      <td>291</td>\n",
       "      <td>275</td>\n",
       "      <td>293</td>\n",
       "      <td>278</td>\n",
       "      <td>283</td>\n",
       "      <td>242</td>\n",
       "      <td>...</td>\n",
       "      <td>329</td>\n",
       "      <td>336</td>\n",
       "      <td>376</td>\n",
       "      <td>354</td>\n",
       "      <td>326</td>\n",
       "      <td>330</td>\n",
       "      <td>301</td>\n",
       "      <td>312</td>\n",
       "      <td>325</td>\n",
       "      <td>332</td>\n",
       "    </tr>\n",
       "  </tbody>\n",
       "</table>\n",
       "<p>1 rows × 1440 columns</p>\n",
       "</div>"
      ],
      "text/plain": [
       "Time      2021-10-05 00:00:00  2021-10-05 00:01:00  2021-10-05 00:02:00  \\\n",
       "Aktivita                  313                  339                  330   \n",
       "\n",
       "Time      2021-10-05 00:03:00  2021-10-05 00:04:00  2021-10-05 00:05:00  \\\n",
       "Aktivita                  279                  291                  275   \n",
       "\n",
       "Time      2021-10-05 00:06:00  2021-10-05 00:07:00  2021-10-05 00:08:00  \\\n",
       "Aktivita                  293                  278                  283   \n",
       "\n",
       "Time      2021-10-05 00:09:00  ...  2021-10-05 23:50:00  2021-10-05 23:51:00  \\\n",
       "Aktivita                  242  ...                  329                  336   \n",
       "\n",
       "Time      2021-10-05 23:52:00  2021-10-05 23:53:00  2021-10-05 23:54:00  \\\n",
       "Aktivita                  376                  354                  326   \n",
       "\n",
       "Time      2021-10-05 23:55:00  2021-10-05 23:56:00  2021-10-05 23:57:00  \\\n",
       "Aktivita                  330                  301                  312   \n",
       "\n",
       "Time      2021-10-05 23:58:00  2021-10-05 23:59:00  \n",
       "Aktivita                  325                  332  \n",
       "\n",
       "[1 rows x 1440 columns]"
      ]
     },
     "execution_count": 2,
     "metadata": {},
     "output_type": "execute_result"
    }
   ],
   "source": [
    "timedf = df\n",
    "timedf[\"Aktivita\"] = 1\n",
    "timedf = timedf.reset_index()\n",
    "timedf = timedf[timedf[\"column\"].notna()]\n",
    "timedf = timedf.drop(columns = [\"column\", \"Novy_sloupec\"])\n",
    "timedf.columns = [\"Time\", \"Aktivita\"]\n",
    "timedf['Time'] = pandas.to_datetime(timedf['Time'])\n",
    "timedf = timedf.groupby(pandas.Grouper(key='Time', freq=\"T\")).Aktivita.sum() #ABSOLUTNE SUPER\n",
    "novydf = timedf\n",
    "novydf = pandas.DataFrame([timedf])\n",
    "\n",
    "novydf"
   ]
  },
  {
   "cell_type": "code",
   "execution_count": 3,
   "id": "185f24cd-f230-4f67-ac50-f2f20e53926f",
   "metadata": {},
   "outputs": [
    {
     "name": "stderr",
     "output_type": "stream",
     "text": [
      "/tmp/ipykernel_16301/1896318403.py:7: SettingWithCopyWarning: \n",
      "A value is trying to be set on a copy of a slice from a DataFrame\n",
      "\n",
      "See the caveats in the documentation: https://pandas.pydata.org/pandas-docs/stable/user_guide/indexing.html#returning-a-view-versus-a-copy\n",
      "  grafdf[\"aktivita\"][a] = novydf.iloc[0,a] #prasacky způsob upravení tabulky do kýžené podoby\n"
     ]
    },
    {
     "data": {
      "text/html": [
       "<div>\n",
       "<style scoped>\n",
       "    .dataframe tbody tr th:only-of-type {\n",
       "        vertical-align: middle;\n",
       "    }\n",
       "\n",
       "    .dataframe tbody tr th {\n",
       "        vertical-align: top;\n",
       "    }\n",
       "\n",
       "    .dataframe thead th {\n",
       "        text-align: right;\n",
       "    }\n",
       "</style>\n",
       "<table border=\"1\" class=\"dataframe\">\n",
       "  <thead>\n",
       "    <tr style=\"text-align: right;\">\n",
       "      <th></th>\n",
       "      <th>cas</th>\n",
       "      <th>aktivita</th>\n",
       "    </tr>\n",
       "  </thead>\n",
       "  <tbody>\n",
       "    <tr>\n",
       "      <th>0</th>\n",
       "      <td>2021-10-05 00:00:00</td>\n",
       "      <td>313.0</td>\n",
       "    </tr>\n",
       "    <tr>\n",
       "      <th>1</th>\n",
       "      <td>2021-10-05 00:01:00</td>\n",
       "      <td>339.0</td>\n",
       "    </tr>\n",
       "    <tr>\n",
       "      <th>2</th>\n",
       "      <td>2021-10-05 00:02:00</td>\n",
       "      <td>330.0</td>\n",
       "    </tr>\n",
       "    <tr>\n",
       "      <th>3</th>\n",
       "      <td>2021-10-05 00:03:00</td>\n",
       "      <td>279.0</td>\n",
       "    </tr>\n",
       "    <tr>\n",
       "      <th>4</th>\n",
       "      <td>2021-10-05 00:04:00</td>\n",
       "      <td>291.0</td>\n",
       "    </tr>\n",
       "    <tr>\n",
       "      <th>...</th>\n",
       "      <td>...</td>\n",
       "      <td>...</td>\n",
       "    </tr>\n",
       "    <tr>\n",
       "      <th>1435</th>\n",
       "      <td>2021-10-05 23:55:00</td>\n",
       "      <td>330.0</td>\n",
       "    </tr>\n",
       "    <tr>\n",
       "      <th>1436</th>\n",
       "      <td>2021-10-05 23:56:00</td>\n",
       "      <td>301.0</td>\n",
       "    </tr>\n",
       "    <tr>\n",
       "      <th>1437</th>\n",
       "      <td>2021-10-05 23:57:00</td>\n",
       "      <td>312.0</td>\n",
       "    </tr>\n",
       "    <tr>\n",
       "      <th>1438</th>\n",
       "      <td>2021-10-05 23:58:00</td>\n",
       "      <td>325.0</td>\n",
       "    </tr>\n",
       "    <tr>\n",
       "      <th>1439</th>\n",
       "      <td>2021-10-05 23:59:00</td>\n",
       "      <td>332.0</td>\n",
       "    </tr>\n",
       "  </tbody>\n",
       "</table>\n",
       "<p>1440 rows × 2 columns</p>\n",
       "</div>"
      ],
      "text/plain": [
       "                     cas  aktivita\n",
       "0    2021-10-05 00:00:00     313.0\n",
       "1    2021-10-05 00:01:00     339.0\n",
       "2    2021-10-05 00:02:00     330.0\n",
       "3    2021-10-05 00:03:00     279.0\n",
       "4    2021-10-05 00:04:00     291.0\n",
       "...                  ...       ...\n",
       "1435 2021-10-05 23:55:00     330.0\n",
       "1436 2021-10-05 23:56:00     301.0\n",
       "1437 2021-10-05 23:57:00     312.0\n",
       "1438 2021-10-05 23:58:00     325.0\n",
       "1439 2021-10-05 23:59:00     332.0\n",
       "\n",
       "[1440 rows x 2 columns]"
      ]
     },
     "execution_count": 3,
     "metadata": {},
     "output_type": "execute_result"
    }
   ],
   "source": [
    "novydf.columns\n",
    "grafdf = pandas.DataFrame(columns = [\"cas\", \"aktivita\"])\n",
    "grafdf[\"cas\"] = novydf.columns\n",
    "grafdf[\"aktivita\"] = novydf.iloc[0]\n",
    "\n",
    "for a in range(1440):\n",
    "    grafdf[\"aktivita\"][a] = novydf.iloc[0,a] #prasacky způsob upravení tabulky do kýžené podoby\n",
    "\n",
    "\n",
    "#grafdf[\"cas_h\"] = grafdf[\"cas\"].str[-8:] #odpusťte mi mé hříchy\n",
    "grafdf"
   ]
  },
  {
   "cell_type": "code",
   "execution_count": 57,
   "id": "40495264-39b1-46fc-aec7-a6b18915cb05",
   "metadata": {},
   "outputs": [],
   "source": [
    "p = str(grafdf.iloc[418,0])\n",
    "p[-8:]\n",
    "str(grafdf[\"cas\"])"
   ]
  },
  {
   "cell_type": "code",
   "execution_count": 4,
   "id": "761b3d56-4bab-479b-b414-660e757c158e",
   "metadata": {},
   "outputs": [],
   "source": [
    "%history -g -f /home/kub/Documents/history"
   ]
  },
  {
   "cell_type": "code",
   "execution_count": 56,
   "id": "2438f143-c833-4382-b3db-81995b22421c",
   "metadata": {},
   "outputs": [
    {
     "name": "stderr",
     "output_type": "stream",
     "text": [
      "/tmp/ipykernel_16301/1072533639.py:18: UserWarning: FixedFormatter should only be used together with FixedLocator\n",
      "  g.set_xticklabels([\"00:00\", '03:00','06:00','09:00','12:00',\n"
     ]
    },
    {
     "data": {
      "text/plain": [
       "<AxesSubplot:title={'center':'Počet dotazů v čase - dialogy.txt'}, xlabel='Čas', ylabel='Počet dotazů'>"
      ]
     },
     "execution_count": 56,
     "metadata": {},
     "output_type": "execute_result"
    },
    {
     "data": {
      "image/png": "[encoded data removed]",
      "text/plain": [
       "<Figure size 1440x864 with 1 Axes>"
      ]
     },
     "metadata": {},
     "output_type": "display_data"
    }
   ],
   "source": [
    "import matplotlib.pyplot as plt\n",
    "import seaborn as sns\n",
    "import matplotlib.dates as mdates\n",
    "\n",
    "\n",
    "fig, ax = plt.subplots()\n",
    "ax.set_ylabel('Počet dotazů')\n",
    "ax.set_xlabel('Čas')\n",
    "ax.set_title('Počet dotazů v čase - dialogy.txt')\n",
    "sns.set(rc={'figure.figsize':(20, 12)})\n",
    "g = grafdf[\"aktivita\"].plot(linewidth=1);\n",
    "\n",
    "#g.xaxis.set_major_locator(mdates.HourLocator(interval = 1))\n",
    "#g.xaxis.set_major_formatter(mdates.DateFormatter('%H:%M'))\n",
    "#plt.xticks(rotation = 90)\n",
    "g.set_xticks(range(0,9))\n",
    "g.xaxis.set_major_locator(mdates.HourLocator(interval = 4000))\n",
    "g.set_xticklabels([\"00:00\", '03:00','06:00','09:00','12:00',\n",
    "                        '15:00','18:00','21:00', '24:00'])\n",
    "g"
   ]
  },
  {
   "cell_type": "code",
   "execution_count": 44,
   "id": "34bfd597-7407-4147-8d76-fca9fdc09196",
   "metadata": {},
   "outputs": [
    {
     "data": {
      "text/plain": [
       "39224.0"
      ]
     },
     "execution_count": 44,
     "metadata": {},
     "output_type": "execute_result"
    }
   ],
   "source": [
    "len(df)/24"
   ]
  },
  {
   "cell_type": "code",
   "execution_count": null,
   "id": "85ed7a87-0673-448b-8061-9b950162d0c8",
   "metadata": {},
   "outputs": [],
   "source": []
  }
 ],
 "metadata": {
  "kernelspec": {
   "display_name": "Python 3 (ipykernel)",
   "language": "python",
   "name": "python3"
  },
  "language_info": {
   "codemirror_mode": {
    "name": "ipython",
    "version": 3
   },
   "file_extension": ".py",
   "mimetype": "text/x-python",
   "name": "python",
   "nbconvert_exporter": "python",
   "pygments_lexer": "ipython3",
   "version": "3.8.10"
  }
 },
 "nbformat": 4,
 "nbformat_minor": 5
}
